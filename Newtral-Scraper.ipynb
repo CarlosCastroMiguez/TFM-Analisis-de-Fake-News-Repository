{
 "cells": [
  {
   "cell_type": "code",
   "execution_count": 1,
   "metadata": {},
   "outputs": [],
   "source": [
    "import requests\n",
    "from bs4 import BeautifulSoup, SoupStrainer\n",
    "import pandas as pd\n",
    "import re\n",
    "import json\n",
    "import pickle"
   ]
  },
  {
   "cell_type": "code",
   "execution_count": 2,
   "metadata": {},
   "outputs": [],
   "source": [
    "page = requests.get('https://www.newtral.es/zona-verificacion/fakes/')"
   ]
  },
  {
   "cell_type": "code",
   "execution_count": 3,
   "metadata": {},
   "outputs": [
    {
     "name": "stdout",
     "output_type": "stream",
     "text": [
      "pagina status code 200\n"
     ]
    }
   ],
   "source": [
    "#print (\"pagina\", page)\n",
    "print (\"pagina status code\", page.status_code)\n",
    "#print (\"contenido de la pagina\", page.content)"
   ]
  },
  {
   "cell_type": "code",
   "execution_count": 4,
   "metadata": {},
   "outputs": [],
   "source": [
    "soup = BeautifulSoup(page.content, 'html.parser')\n",
    "#print(soup)\n",
    "#print(soup.prettify())"
   ]
  },
  {
   "cell_type": "code",
   "execution_count": 5,
   "metadata": {},
   "outputs": [],
   "source": [
    "def get_urls(noticias):\n",
    "    \n",
    "    page = requests.get('https://www.newtral.es/wp-json/wp/v2/posts?per_page='+ str(noticias) +'&offset=0&categories=59&_locale=user')\n",
    "\n",
    "    for e in page.json():\n",
    "        enlace = e['link']\n",
    "        lista_enlaces.append(enlace)\n",
    "        \n",
    "    return lista_enlaces"
   ]
  },
  {
   "cell_type": "code",
   "execution_count": 6,
   "metadata": {},
   "outputs": [],
   "source": [
    "def scraping_article(url):\n",
    "    \n",
    "    #article = {\"Title\":\"Titulo_noticia\", \"Publication_date\":\"Fecha_noticia\", \"Content\":\"Article_content\"}\n",
    "\n",
    "    page = requests.get(url)\n",
    "\n",
    "    soup3 = BeautifulSoup(page.content, 'html.parser')\n",
    "\n",
    "    title = soup3.find(\"h1\",class_=\"entry-title c-article__title\").get_text()\n",
    "    #print(title)\n",
    "    \n",
    "    date = soup3.find(\"time\",class_=\"entry-date c-article__date published updated\").get_text().strip('\\n')\n",
    "    #print(date)\n",
    "    \n",
    "    tags = soup3.find(\"ul\", class_=\"tags-links c-pills uk-visible@m\")\n",
    "    tags2 = tags.find_all(\"a\", class_=\"c-pills__item\")\n",
    "    \n",
    "    tag_list = []\n",
    "    \n",
    "    for t in tags2:\n",
    "        tag_list.append(t.get_text())\n",
    "    \n",
    "    content_list = []\n",
    "    body = soup3.find(\"div\", class_=\"entry-content\")\n",
    "    body2 = body.find_all(\"p\", class_=\"\")\n",
    "    \n",
    "    for e in body2:\n",
    "        content_list.append(e.get_text().replace(\"\\xa0\", \" \"))\n",
    "    \n",
    "    content = ''.join(content_list[:-1])\n",
    "    \n",
    "    article = {\"Title\": title, \"Tags\": tag_list, \"Publication_date\": date, \"Content\": content, \"URL\": url, \"Fuente\": \"Newtral.es\"}\n",
    "    \n",
    "    return article\n"
   ]
  },
  {
   "cell_type": "code",
   "execution_count": 7,
   "metadata": {
    "scrolled": true
   },
   "outputs": [],
   "source": [
    "noticias = 13 #En esta web tenemos 13 noticias de portada y luego se van sumando de 12 en 12 (Podemos seleccionar un número intermedio)\n",
    "lista_enlaces = []\n",
    "\n",
    "lista_enlaces = get_urls(noticias)\n",
    "\n",
    "#print(len(lista_enlaces))\n",
    "lista_enlaces\n",
    "\n",
    "lista_articulos = []   \n",
    "for e in lista_enlaces:\n",
    "    articulo = scraping_article(e)\n",
    "    lista_articulos.append(articulo)\n"
   ]
  },
  {
   "cell_type": "code",
   "execution_count": 8,
   "metadata": {},
   "outputs": [
    {
     "name": "stdout",
     "output_type": "stream",
     "text": [
      "1\n",
      "['https://www.newtral.es/policia-asesinato-george-floyd-actor-bulo-gran-montaje/20200605/']\n"
     ]
    }
   ],
   "source": [
    "print(len(lista_enlaces))\n",
    "print(lista_enlaces)"
   ]
  },
  {
   "cell_type": "code",
   "execution_count": 9,
   "metadata": {
    "scrolled": true
   },
   "outputs": [
    {
     "name": "stdout",
     "output_type": "stream",
     "text": [
      "[{'Title': 'El policía acusado del asesinato de George Floyd no es un actor (y varios desmentidos más de la teoría sobre “el gran montaje”)', 'Tags': ['Estados Unidos', 'fakes', 'George Floyd', 'Violencia'], 'Publication_date': '05 junio 2020', 'Content': 'En los últimos días nos ha llegado a través de nuestro servicio de verificación de Whatsapp (+34 682 58 96 64) de Newtral.es preguntas sobre la veracidad de diversas afirmaciones de una teoría de la conspiración sobre el supuesto asesinato de George Floyd a manos de la policía de Minneapolis. En dicha teoría se vierten diversas afirmaciones como, por ejemplo, que Derek Chauvin, el agente que mantuvo la rodilla sobre el cuello de Floyd y principal acusado, es un actor y que todo formaría parte de un “gran montaje”. Vamos a ir desmontando las afirmaciones objetivamente falsas que hemos recibido.No, no lo es. El detenido es Derek Chauvin como informan infinidad de medios de comunicación. Al ya ex-policía lo detuvieron el 29 de mayo.Poco después su todavía esposa anunció que le pediría el divorcio. Su abogado emitió un comunicado la decisión de su representada de «disolver su matrimonio» y que esta se encontraba «devastada» por la muerte de Floyd.Por su parte, el actor y humorista Benjamin Ray Bailey, se sumó el 2 de junio la iniciativa “blackouttuesday” y “blacklivesmatters” en solidaridad y apoyo a las protestas por la muerte del afroamericano y al día siguiente, 3 de junio, hizo un show en directo que se pudo ver en sus redes sociales.Otra de las afirmaciones que sustentan el “gran montaje” es que el uniforme policial que llevan los implicados en el supuesto homicidio no son los que visten en la policía de Minneapolis. Esto es falso.Para ello compara una imagen de Chauvin y otro policía en la que se ve que los distintivos de los hombros no son iguales. Son diferentes porque identifican a dos cuerpos distintos. La de Chauvin es simplemente de la policía de Minneapolis, mientras que la imagen del hombre con el que le compara pertenece a la “honor guard”, la sección del cuerpo de ese estado que se dedica, por ejemplo, a funerales de oficiales.Sí, lo dice. Puede parecer extraño, pero en la policía de Minneapolis no lo es tanto, como hemos visto en alguna de las fotos de la página de Facebook de este cuerpo policial. Incluso los bomberos ponen “FIRE” en alguna de las matrículas de sus vehículos. Estas tres preguntas, según uno de los textos que nos ha llegado, sin respuesta, se suman al argumento del “gran montaje”. Encontramos la contestación en la reconstrucción del suceso que hizo el Washington Post.¿Cuándo y quién? En el minuto 4.54 del vídeo se recuerda que “a las 8.22 PM (…)  los oficiales solicitan una ambulancia”.¿Por qué? La situación necesitaba de una “respuesta inmediata” como escuchamos en el minuto 5.05 del vídeo del medio estadounidense, y donde se recogen las comunicaciones entre el centro de emergencias y los policías. En un primer momento se informó de un código 2, “llamada o situación que tiene que ser respondida inmediatamente. Luces y sirenas de la la ambulancia no tienen que ser utilizadas y se tienen que respetar las normas de tráfico”. Un minuto después los agentes solicitan un código 3: “respuesta inmediata” lo “más rápido y seguro posible” y “se pueden utilizar luces y sirenas”.Las personas con uniforme marrón sí son paramédicos. En concreto del Hennepin EMS (Emergency Medical Service). Hennepin es el nombre del condado en el que se encuentra la ciudad de Minneapolis.El demócrata Bill de Blasio es alcalde de Nueva York desde 2014 y sí, su hija Chiara fue detenida como él mismo reconoció. Acusaciones a políticos no afines al presidente Donald Trump, como el mismo de Blasio o Hillary Clinton, son habituales en este tipo de teorías conspirativas. Sin embargo, no hemos encontrado informaciones fiables que aseguren que fue durante un “motín violento” y “por incendiar automóviles”. Algunas apuntan a que estuvo bloqueando el tráfico y que fue arrestada por negarse a moverse y facilitar la circulación.Esta afirmación viene acompañada de un tuit en el que aparece el alcalde de Minneapolis, Jacob Frey, junto a su esposa Sarah Clarke. Cada uno de ellos lleva enfundado un calcetín con la imagen de la ex-candidata presidencial Hillary Clinton. No hemos encontrado esta imagen ni en las redes sociales oficiales del alcalde ni en su cuenta de Twitter más personal. En ella cita a la de su esposa, pero parece ser que la ha cerrado. Gracias a la web wayback machine, que hace copias de infinidad de sitios web, hemos encontrado varios tuits de la señora Clarke, pero ninguno es el de la foto con los calcetines.Por otro lado, una búsqueda de la foto por internet arroja pocos resultados más allá del tuit que se cita en el texto y del que es responsable Wojciech Pawelczyk. Este hombre se define en la biografía de su cuenta como “editor de vídeo de War Room de Bannon”. Bannon es Steve Bannon, un empresario ultraconservador que fue el director de la campaña presidencial de Donald Trump y consejero del ya inquilino de la Casablanca al inicio de su mandato.Desconocemos si Frey es un “gran y ferviente admirador” de Clinton. Lo que sí sabemos es que el hoy alcalde de Minneapolis formó parte en 2015, cuando era concejal en esta ciudad, del equipo que la por entonces candidata presidencial demócrata anunció para hacer la campaña en el estado de Minnesota. A pesar de que en la cuenta del fiscal general de Minnesota Keith Ellison no encontramos el tuit, de nuevo gracias a wayback machine, descubrimos que este mensaje se publicó el 3 de enero de 2018. En el tuit, Ellison comenta que en una librería “acaba de encontrar” un libro que “da miedo” a Donald Trump. El libro es ‘Antifa. The anti-fascist handbook’ de Mark Bray.Sin embargo, la parte de la afirmación sobre la organización Antifa es falsa. Antifa no es un grupo terrorista. A pesar de que Trump ya ha anunciado que quiere calificarla como tal, todavía no aparece en la lista de la oficina de antiterrorismo del gobierno estadounidense.También nos han llegado preguntas sobre esta afirmación de crímenes cometidos por personas de raza negra en 2018. Para sustentarla se utiliza una gráfica de barras azules, amarillas y rojas. El primer color presenta los incidentes de negros con blancos e hispanos, el segundo de blancos con negros e hispanos y el tercero de hispanos con blancos y negros.Desconocemos el origen de esta gráfica de barras, pero sí sabemos que los números salen de la tabla número 14 del “Criminal Victimization, 2018” del Departamento de Justicia de Estados Unidos titulada, traducida del inglés, “porcentaje de incidentes violentos, por raza y etnia de la víctima y del victimario, 2018”.Los incidentes totales sufridos por blancos, según esta tabla, ascendieron a 3.581.360. La gente de raza negra fue responsable del 15,3 % de estos. Este porcentaje se traduce en los 547.948 incidentes que vemos en la primera barra azul de la gráfica de autoría desconocida.Estos datos son ciertos, sin embargo, en esta visualización se omite un dato clave: que 2.224.024 del total de crímenes sufridos por personas de raza blanca, es decir, el 62,1%, fueron cometidos por gente de esta misma raza, como también se informa en la tabla 14 del Departamento de Justicia estadounidense.El mismo boletín “Criminal Victimization, 2018”, en su página 13 antes de la tabla 14 afirma: “según las percepciones de las víctimas, el mayor porcentaje de incidentes violentos cometidos contra blancos, negros, y víctimas hispanas fueron cometidas por alguien de la misma raza o etnia”.', 'URL': 'https://www.newtral.es/policia-asesinato-george-floyd-actor-bulo-gran-montaje/20200605/', 'Fuente': 'Newtral.es'}]\n"
     ]
    }
   ],
   "source": [
    "print(lista_articulos)\n",
    "#print(lista_articulos[0]['Tags'][0])"
   ]
  },
  {
   "cell_type": "code",
   "execution_count": 10,
   "metadata": {},
   "outputs": [
    {
     "name": "stdout",
     "output_type": "stream",
     "text": [
      "Newtral_FN_07-06-2020\n"
     ]
    }
   ],
   "source": [
    "from datetime import date\n",
    "\n",
    "date = date.today().strftime(\"%d-%m-%Y\")\n",
    "\n",
    "filename = 'Newtral_FN_' + date\n",
    "print(filename)\n",
    "\n",
    "outfile = open(filename,'wb')\n",
    "\n",
    "pickle.dump(lista_articulos, outfile)\n",
    "outfile.close()"
   ]
  },
  {
   "cell_type": "code",
   "execution_count": 11,
   "metadata": {},
   "outputs": [
    {
     "name": "stdout",
     "output_type": "stream",
     "text": [
      "True\n",
      "<class 'list'>\n"
     ]
    },
    {
     "data": {
      "text/plain": [
       "[{'Title': 'El policía acusado del asesinato de George Floyd no es un actor (y varios desmentidos más de la teoría sobre “el gran montaje”)',\n",
       "  'Tags': ['Estados Unidos', 'fakes', 'George Floyd', 'Violencia'],\n",
       "  'Publication_date': '05 junio 2020',\n",
       "  'Content': 'En los últimos días nos ha llegado a través de nuestro servicio de verificación de Whatsapp (+34 682 58 96 64) de Newtral.es preguntas sobre la veracidad de diversas afirmaciones de una teoría de la conspiración sobre el supuesto asesinato de George Floyd a manos de la policía de Minneapolis. En dicha teoría se vierten diversas afirmaciones como, por ejemplo, que Derek Chauvin, el agente que mantuvo la rodilla sobre el cuello de Floyd y principal acusado, es un actor y que todo formaría parte de un “gran montaje”. Vamos a ir desmontando las afirmaciones objetivamente falsas que hemos recibido.No, no lo es. El detenido es Derek Chauvin como informan infinidad de medios de comunicación. Al ya ex-policía lo detuvieron el 29 de mayo.Poco después su todavía esposa anunció que le pediría el divorcio. Su abogado emitió un comunicado la decisión de su representada de «disolver su matrimonio» y que esta se encontraba «devastada» por la muerte de Floyd.Por su parte, el actor y humorista Benjamin Ray Bailey, se sumó el 2 de junio la iniciativa “blackouttuesday” y “blacklivesmatters” en solidaridad y apoyo a las protestas por la muerte del afroamericano y al día siguiente, 3 de junio, hizo un show en directo que se pudo ver en sus redes sociales.Otra de las afirmaciones que sustentan el “gran montaje” es que el uniforme policial que llevan los implicados en el supuesto homicidio no son los que visten en la policía de Minneapolis. Esto es falso.Para ello compara una imagen de Chauvin y otro policía en la que se ve que los distintivos de los hombros no son iguales. Son diferentes porque identifican a dos cuerpos distintos. La de Chauvin es simplemente de la policía de Minneapolis, mientras que la imagen del hombre con el que le compara pertenece a la “honor guard”, la sección del cuerpo de ese estado que se dedica, por ejemplo, a funerales de oficiales.Sí, lo dice. Puede parecer extraño, pero en la policía de Minneapolis no lo es tanto, como hemos visto en alguna de las fotos de la página de Facebook de este cuerpo policial. Incluso los bomberos ponen “FIRE” en alguna de las matrículas de sus vehículos. Estas tres preguntas, según uno de los textos que nos ha llegado, sin respuesta, se suman al argumento del “gran montaje”. Encontramos la contestación en la reconstrucción del suceso que hizo el Washington Post.¿Cuándo y quién? En el minuto 4.54 del vídeo se recuerda que “a las 8.22 PM (…)  los oficiales solicitan una ambulancia”.¿Por qué? La situación necesitaba de una “respuesta inmediata” como escuchamos en el minuto 5.05 del vídeo del medio estadounidense, y donde se recogen las comunicaciones entre el centro de emergencias y los policías. En un primer momento se informó de un código 2, “llamada o situación que tiene que ser respondida inmediatamente. Luces y sirenas de la la ambulancia no tienen que ser utilizadas y se tienen que respetar las normas de tráfico”. Un minuto después los agentes solicitan un código 3: “respuesta inmediata” lo “más rápido y seguro posible” y “se pueden utilizar luces y sirenas”.Las personas con uniforme marrón sí son paramédicos. En concreto del Hennepin EMS (Emergency Medical Service). Hennepin es el nombre del condado en el que se encuentra la ciudad de Minneapolis.El demócrata Bill de Blasio es alcalde de Nueva York desde 2014 y sí, su hija Chiara fue detenida como él mismo reconoció. Acusaciones a políticos no afines al presidente Donald Trump, como el mismo de Blasio o Hillary Clinton, son habituales en este tipo de teorías conspirativas. Sin embargo, no hemos encontrado informaciones fiables que aseguren que fue durante un “motín violento” y “por incendiar automóviles”. Algunas apuntan a que estuvo bloqueando el tráfico y que fue arrestada por negarse a moverse y facilitar la circulación.Esta afirmación viene acompañada de un tuit en el que aparece el alcalde de Minneapolis, Jacob Frey, junto a su esposa Sarah Clarke. Cada uno de ellos lleva enfundado un calcetín con la imagen de la ex-candidata presidencial Hillary Clinton. No hemos encontrado esta imagen ni en las redes sociales oficiales del alcalde ni en su cuenta de Twitter más personal. En ella cita a la de su esposa, pero parece ser que la ha cerrado. Gracias a la web wayback machine, que hace copias de infinidad de sitios web, hemos encontrado varios tuits de la señora Clarke, pero ninguno es el de la foto con los calcetines.Por otro lado, una búsqueda de la foto por internet arroja pocos resultados más allá del tuit que se cita en el texto y del que es responsable Wojciech Pawelczyk. Este hombre se define en la biografía de su cuenta como “editor de vídeo de War Room de Bannon”. Bannon es Steve Bannon, un empresario ultraconservador que fue el director de la campaña presidencial de Donald Trump y consejero del ya inquilino de la Casablanca al inicio de su mandato.Desconocemos si Frey es un “gran y ferviente admirador” de Clinton. Lo que sí sabemos es que el hoy alcalde de Minneapolis formó parte en 2015, cuando era concejal en esta ciudad, del equipo que la por entonces candidata presidencial demócrata anunció para hacer la campaña en el estado de Minnesota. A pesar de que en la cuenta del fiscal general de Minnesota Keith Ellison no encontramos el tuit, de nuevo gracias a wayback machine, descubrimos que este mensaje se publicó el 3 de enero de 2018. En el tuit, Ellison comenta que en una librería “acaba de encontrar” un libro que “da miedo” a Donald Trump. El libro es ‘Antifa. The anti-fascist handbook’ de Mark Bray.Sin embargo, la parte de la afirmación sobre la organización Antifa es falsa. Antifa no es un grupo terrorista. A pesar de que Trump ya ha anunciado que quiere calificarla como tal, todavía no aparece en la lista de la oficina de antiterrorismo del gobierno estadounidense.También nos han llegado preguntas sobre esta afirmación de crímenes cometidos por personas de raza negra en 2018. Para sustentarla se utiliza una gráfica de barras azules, amarillas y rojas. El primer color presenta los incidentes de negros con blancos e hispanos, el segundo de blancos con negros e hispanos y el tercero de hispanos con blancos y negros.Desconocemos el origen de esta gráfica de barras, pero sí sabemos que los números salen de la tabla número 14 del “Criminal Victimization, 2018” del Departamento de Justicia de Estados Unidos titulada, traducida del inglés, “porcentaje de incidentes violentos, por raza y etnia de la víctima y del victimario, 2018”.Los incidentes totales sufridos por blancos, según esta tabla, ascendieron a 3.581.360. La gente de raza negra fue responsable del 15,3 % de estos. Este porcentaje se traduce en los 547.948 incidentes que vemos en la primera barra azul de la gráfica de autoría desconocida.Estos datos son ciertos, sin embargo, en esta visualización se omite un dato clave: que 2.224.024 del total de crímenes sufridos por personas de raza blanca, es decir, el 62,1%, fueron cometidos por gente de esta misma raza, como también se informa en la tabla 14 del Departamento de Justicia estadounidense.El mismo boletín “Criminal Victimization, 2018”, en su página 13 antes de la tabla 14 afirma: “según las percepciones de las víctimas, el mayor porcentaje de incidentes violentos cometidos contra blancos, negros, y víctimas hispanas fueron cometidas por alguien de la misma raza o etnia”.',\n",
       "  'URL': 'https://www.newtral.es/policia-asesinato-george-floyd-actor-bulo-gran-montaje/20200605/',\n",
       "  'Fuente': 'Newtral.es'}]"
      ]
     },
     "execution_count": 11,
     "metadata": {},
     "output_type": "execute_result"
    }
   ],
   "source": [
    "infile = open(filename,'rb')\n",
    "new_dict = pickle.load(infile)\n",
    "infile.close()\n",
    "\n",
    "\n",
    "print(new_dict==lista_articulos)\n",
    "print(type(new_dict))\n",
    "new_dict"
   ]
  }
 ],
 "metadata": {
  "kernelspec": {
   "display_name": "Python 3",
   "language": "python",
   "name": "python3"
  },
  "language_info": {
   "codemirror_mode": {
    "name": "ipython",
    "version": 3
   },
   "file_extension": ".py",
   "mimetype": "text/x-python",
   "name": "python",
   "nbconvert_exporter": "python",
   "pygments_lexer": "ipython3",
   "version": "3.7.4"
  }
 },
 "nbformat": 4,
 "nbformat_minor": 2
}
