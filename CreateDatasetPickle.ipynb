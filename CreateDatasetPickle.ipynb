{
 "cells": [
  {
   "cell_type": "code",
   "execution_count": 27,
   "metadata": {},
   "outputs": [],
   "source": [
    "#Agrupar Pickles"
   ]
  },
  {
   "cell_type": "code",
   "execution_count": 28,
   "metadata": {},
   "outputs": [],
   "source": [
    "import requests\n",
    "from bs4 import BeautifulSoup, SoupStrainer\n",
    "import pandas as pd\n",
    "import re\n",
    "import pickle\n",
    "import glob"
   ]
  },
  {
   "cell_type": "code",
   "execution_count": 29,
   "metadata": {},
   "outputs": [],
   "source": [
    "#Get a list of files, read them and append into a new list of data (data)\n",
    "\n",
    "list_files = glob.glob('Maldita_FN_Pag-*_*')\n",
    "\n",
    "data = []\n",
    "for fname in list_files:\n",
    "    infile = open(fname,'rb')\n",
    "    new_dict = pickle.load(infile)\n",
    "    for i in new_dict:\n",
    "        data.append(i)\n",
    "    infile.close()"
   ]
  },
  {
   "cell_type": "code",
   "execution_count": 30,
   "metadata": {},
   "outputs": [
    {
     "name": "stdout",
     "output_type": "stream",
     "text": [
      "Maldita_Dataset_14-06-2020\n"
     ]
    }
   ],
   "source": [
    "#Guardamos los datos:\n",
    "from datetime import date\n",
    "\n",
    "date = date.today().strftime(\"%d-%m-%Y\")\n",
    "\n",
    "filename = 'Maldita_Dataset_'+ date\n",
    "print(filename)\n",
    "\n",
    "outfile = open(filename,'wb')\n",
    "pickle.dump(data, outfile)  \n",
    "    \n",
    "outfile.close()"
   ]
  },
  {
   "cell_type": "code",
   "execution_count": 31,
   "metadata": {},
   "outputs": [
    {
     "data": {
      "text/plain": [
       "432"
      ]
     },
     "execution_count": 31,
     "metadata": {},
     "output_type": "execute_result"
    }
   ],
   "source": [
    "infile = open(filename,'rb')\n",
    "dataset = pickle.load(infile)\n",
    "len(dataset)"
   ]
  },
  {
   "cell_type": "code",
   "execution_count": null,
   "metadata": {},
   "outputs": [],
   "source": []
  }
 ],
 "metadata": {
  "kernelspec": {
   "display_name": "Python 3",
   "language": "python",
   "name": "python3"
  },
  "language_info": {
   "codemirror_mode": {
    "name": "ipython",
    "version": 3
   },
   "file_extension": ".py",
   "mimetype": "text/x-python",
   "name": "python",
   "nbconvert_exporter": "python",
   "pygments_lexer": "ipython3",
   "version": "3.7.4"
  }
 },
 "nbformat": 4,
 "nbformat_minor": 2
}
