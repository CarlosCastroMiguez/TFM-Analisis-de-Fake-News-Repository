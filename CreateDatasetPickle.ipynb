{
 "cells": [
  {
   "cell_type": "code",
   "execution_count": 2,
   "metadata": {},
   "outputs": [],
   "source": [
    "#Agrupar Pickles"
   ]
  },
  {
   "cell_type": "code",
   "execution_count": 3,
   "metadata": {},
   "outputs": [],
   "source": [
    "import requests\n",
    "from bs4 import BeautifulSoup, SoupStrainer\n",
    "import pandas as pd\n",
    "import re\n",
    "import pickle\n",
    "import glob"
   ]
  },
  {
   "cell_type": "code",
   "execution_count": 4,
   "metadata": {},
   "outputs": [],
   "source": [
    "#Get a list of files, read them and append into a new list of data (data)\n",
    "\n",
    "list_files = glob.glob('Maldita_FN_Pag-*_*')\n",
    "\n",
    "data = []\n",
    "for fname in list_files:\n",
    "    infile = open(fname,'rb')\n",
    "    new_dict = pickle.load(infile)\n",
    "    for i in new_dict:\n",
    "        data.append(i)\n",
    "    infile.close()"
   ]
  },
  {
   "cell_type": "code",
   "execution_count": 5,
   "metadata": {},
   "outputs": [
    {
     "name": "stdout",
     "output_type": "stream",
     "text": [
      "Maldita_Dataset_03-07-2020\n"
     ]
    }
   ],
   "source": [
    "#Guardamos los datos:\n",
    "from datetime import date\n",
    "\n",
    "date = date.today().strftime(\"%d-%m-%Y\")\n",
    "\n",
    "filename = 'Maldita_Dataset_'+ date\n",
    "print(filename)\n",
    "\n",
    "outfile = open(filename,'wb')\n",
    "pickle.dump(data, outfile)  \n",
    "    \n",
    "outfile.close()"
   ]
  },
  {
   "cell_type": "code",
   "execution_count": 6,
   "metadata": {},
   "outputs": [
    {
     "data": {
      "text/plain": [
       "1224"
      ]
     },
     "execution_count": 6,
     "metadata": {},
     "output_type": "execute_result"
    }
   ],
   "source": [
    "infile = open(filename,'rb')\n",
    "dataset = pickle.load(infile)\n",
    "len(dataset)"
   ]
  },
  {
   "cell_type": "code",
   "execution_count": 12,
   "metadata": {},
   "outputs": [
    {
     "data": {
      "text/plain": [
       "{'Title': 'No, la foto de una escultura de Lorca con una esvástica pintada en la frente no se hizo después de las manifestaciones de Vox del 23 de mayo: la imagen es de 2018',\n",
       " 'Publication_date': '26/05/2020',\n",
       " 'Content': 'Circula por redes sociales la foto de una estatua de Federico García Lorca en Granada con una esvástica pintada en la frente, como si hubiese sido tomada después de las manifestaciones del sábado 23 de mayo organizadas por Vox en diferentes ciudades para protestar contra la gestión del Gobierno ante la gestión por la crisis del coronavirus. Es un bulo. Aunque la imagen es real, se hizo en 2018 y la escultura se reparó.Algunos de los mensajes que acompañan a la imagen dicen que en Granada, \"tras la manifestación pacífica de unos patriotas constitucionalistas reclamando libertad\" la escultura del poeta granadino apareció vandalizada de esta manera. Sin embargo, como hemos dicho, la imagen es de 2018 y ya entonces algunos usuarios la compartieron en redes sociales.La estatua de Federico García Lorca aparece con una esvástica grabada en la frente. Noticia de @ideal_granada.No hay palabras para describir un acto tan miserable. pic.twitter.com/IWnHw57PQzSe trata de una estatua situada en el bulevar de la avenida de la Constitución de Granada desde el año 2010. En mayo de 2018, varios medios como eldiario.es, Público o ABC publicaban que la escultura había amanecido con una cruz gamada pintada en la frente. La Policía Nacional investigó el acto vandálico y el Ayuntamiento granadino reparó poco después la estatua. Unos días más tarde, un grupo de personas del ámbito de la cultura organizó una lectura de poemas frente a la escultura como \"acto de desagravio\", tal como recogía el diario Ideal.',\n",
       " 'URL': 'https://maldita.es/malditobulo/2020/05/26/escultura-lorca-esvastica-en-la-frente-manifestaciones-23-mayo/',\n",
       " 'Fuente': 'Maldita.es'}"
      ]
     },
     "execution_count": 12,
     "metadata": {},
     "output_type": "execute_result"
    }
   ],
   "source": [
    "dataset[1223]"
   ]
  }
 ],
 "metadata": {
  "kernelspec": {
   "display_name": "Python 3",
   "language": "python",
   "name": "python3"
  },
  "language_info": {
   "codemirror_mode": {
    "name": "ipython",
    "version": 3
   },
   "file_extension": ".py",
   "mimetype": "text/x-python",
   "name": "python",
   "nbconvert_exporter": "python",
   "pygments_lexer": "ipython3",
   "version": "3.7.4"
  }
 },
 "nbformat": 4,
 "nbformat_minor": 2
}
