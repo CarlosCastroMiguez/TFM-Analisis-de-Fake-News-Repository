{
 "cells": [
  {
   "cell_type": "code",
   "execution_count": 12,
   "metadata": {},
   "outputs": [],
   "source": [
    "import requests\n",
    "from bs4 import BeautifulSoup, SoupStrainer\n",
    "import pandas as pd\n",
    "import re"
   ]
  },
  {
   "cell_type": "code",
   "execution_count": 13,
   "metadata": {},
   "outputs": [],
   "source": [
    "page = requests.get('https://maldita.es/malditobulo/')"
   ]
  },
  {
   "cell_type": "code",
   "execution_count": 14,
   "metadata": {},
   "outputs": [
    {
     "name": "stdout",
     "output_type": "stream",
     "text": [
      "pagina status code 200\n"
     ]
    }
   ],
   "source": [
    "#print (\"pagina\", page)\n",
    "print (\"pagina status code\", page.status_code)\n",
    "#print (\"contenido de la pagina\", page.content)"
   ]
  },
  {
   "cell_type": "code",
   "execution_count": 15,
   "metadata": {
    "scrolled": true
   },
   "outputs": [],
   "source": [
    "soup = BeautifulSoup(page.content, 'html.parser')\n",
    "#print(soup)\n",
    "#print(soup.prettify())"
   ]
  },
  {
   "cell_type": "code",
   "execution_count": 61,
   "metadata": {
    "scrolled": true
   },
   "outputs": [
    {
     "data": {
      "text/plain": [
       "[\"39 casos de 'phishing' con los que te están intentando timar durante la cuarentena y cómo evitarlos\",\n",
       " 'No, este audio no es del hijo de Félix Rodríguez de la Fuente criticando la gestión del Gobierno ante el coronavirus: es el periodista Carlos Rodríguez',\n",
       " 'No, Correos no está \"redondeando\" sus precios con tal de comprar mascarillas para sus trabajadores: los fondos son para la investigación contra la COVID-19',\n",
       " 'No, esta comparativa de test entregados y usados señalando a las comunidades gobernadas por el PP como las que menos han usado los test rápidos no es correcta: para el 23 de abril el Gobierno aún no había entregado la tercera tanda de test',\n",
       " 'No, el coronavirus no es una bacteria amplificada con radiación electromagnética 5G ni se ha descubierto que provoca trombos en una autopsia realizada en Italia como afirma esta cadena',\n",
       " '¿Qué sabemos sobre el partido Tercera Edad en Acción y sobre la supuesta relación de su ex presidente Carlos Rico con Podemos?',\n",
       " 'Cuidado con las cadenas que ofrecen combustible gratis: Repsol, Shell y Pemex denuncian que les han suplantado y que son falsas',\n",
       " 'Ni Italia ha descubierto la cura de la COVID-19, ni la causa de la enfermedad es una bacteria, ni la OMS ha prohibido hacer autopsias como afirma esta cadena de WhatsApp',\n",
       " 'La frase contra la prisión de Jordi Sánchez y Jordi Cuixart que atribuyen falsamente a Julio Anguita: no aparece en ninguna declaración pública y él negó haberla dicho',\n",
       " 'No, estos sanitarios no protestan contra el ministro de Sanidad, Salvador Illa, ni contra la ministra de Igualdad, Irene Montero, ni contra Pedro Sánchez: es Bélgica y es contra la primera ministra belga',\n",
       " 'No, este sorteo de un vale de 1000€ por contestar a unas preguntas no es de Lidl',\n",
       " \"No, Repsol no está regalando tres meses de combustible gratis: es 'phishing'\",\n",
       " 'Bulos y desinformaciones sobre las protestas en el barrio de Salamanca de Madrid',\n",
       " '¡Cuidado! Se hacen pasar por Amazon para timarte: correos, SMS y regalos falsos',\n",
       " 'No, Carrefour no está regalando una tarjeta regalo con este cuestionario: es phishing',\n",
       " '¿Qué sabemos sobre la presencia del presidente de Mercadona, Juan Roig, en una concentración en Valencia? Desde Mercadona afirman que se encontró con la concentración cuando iba a su casa',\n",
       " \"No, 'eldiario.es' no ha tuiteado que 'neonazis de Alcalá de Henares agreden a una pareja de homosexuales que hacían deporte': es una cuenta que se autodenomina 'parodia'\",\n",
       " 'No, la persona que aparece en este vídeo no es la delegada del Gobierno contra la Violencia de Género, Victoria Rosell: es Pastora de Florencio, presidenta de Castelló LGTBI',\n",
       " 'El coronavirus y sus bulos: 538 mentiras, alertas falsas y desinformaciones sobre COVID-19',\n",
       " 'Cuidado con la falsa “alerta policial” de la banda \"Manos limpias\" que te droga y te roba',\n",
       " 'No, la mujer de este vídeo que grita a la Policía durante una protesta en Núñez de Balboa no es Sonsoles Queipo de Llano',\n",
       " \"No, Carrefour no está regalando cupones de 180 euros: es 'phishing'\",\n",
       " 'No, esta foto de una mujer con una bandera de España con el Águila de San Juan no es de las protestas en el barrio de Salamanca en Madrid durante la cuarentena por coronavirus: es Barcelona en 2019',\n",
       " 'No, esta no es una vacuna contra el coronavirus que causa la COVID-19: es una vacuna para un coronavirus canino']"
      ]
     },
     "execution_count": 61,
     "metadata": {},
     "output_type": "execute_result"
    }
   ],
   "source": [
    "tags = soup.find_all('article', class_='card card-item half')\n",
    "\n",
    "todo = list(tags)\n",
    "#print(todo)\n",
    "\n",
    "#Comienzo a procesar el texto html y me quedo solo con los títulos\n",
    "\n",
    "elementos = []\n",
    "for articulo in todo:\n",
    "    #print(articulo)\n",
    "\n",
    "    if (articulo.get_text() != '\\n'):\n",
    "        #print(articulo.get_text().split('\\n'))\n",
    "        elementos.append(articulo.get_text().strip().split('\\n'))\n",
    "    \n",
    "#print(elementos)\n",
    "\n",
    "lista_titulos = []\n",
    "for e in elementos:\n",
    "\n",
    "    lista_titulos.append(e[-1].strip())\n",
    "    \n",
    "'''\n",
    "print(len(elementos))\n",
    "print(len(lista_titulos))\n",
    "print(lista_titulos)\n",
    "'''\n",
    "lista_titulos\n"
   ]
  },
  {
   "cell_type": "code",
   "execution_count": 57,
   "metadata": {
    "scrolled": false
   },
   "outputs": [],
   "source": [
    "def get_urls(link, lista_enlaces):\n",
    "    \n",
    "    page = requests.get(link)\n",
    "    \n",
    "    soup2 = BeautifulSoup(page.content, 'html.parser')\n",
    "\n",
    "    todo2 = soup2.find('div', class_='post-cards-list')\n",
    "    urls = todo2.find_all('a')\n",
    "\n",
    "    enlaces = []\n",
    "    for url in urls:\n",
    "        #print(url.attrs['href'])\n",
    "        enlaces.append(url.attrs['href'])\n",
    "    for e in enlaces[1::2]:\n",
    "        lista_enlaces.append(e)\n",
    "    lista_enlaces"
   ]
  },
  {
   "cell_type": "code",
   "execution_count": 58,
   "metadata": {},
   "outputs": [
    {
     "name": "stdout",
     "output_type": "stream",
     "text": [
      "Cargando URLs...\n"
     ]
    }
   ],
   "source": [
    "lista_enlaces = []\n",
    "suficiente = True\n",
    "n_pag = 1\n",
    "n_noticias = 50 #Las noticias van en bloques de 24. La carga computacional aumentaria mucho si quisiera que fuera mas preciso\n",
    "                #Pero para este caso de uso y estudio no es necesario.\n",
    "\n",
    "#Cargo las URLS.\n",
    "print('Cargando URLs...')\n",
    "while (len(lista_enlaces) <= n_noticias-1 and suficiente):\n",
    "    link =  \"https://maldita.es/malditobulo/page/\" + str(n_pag) + \"/\"\n",
    "    arrayurls= get_urls(link, lista_enlaces)\n",
    "    n_pag = n_pag + 1\n",
    "\n",
    "    if (n_pag >=10):\n",
    "        suficiente=False"
   ]
  },
  {
   "cell_type": "code",
   "execution_count": 59,
   "metadata": {},
   "outputs": [
    {
     "name": "stdout",
     "output_type": "stream",
     "text": [
      "72\n",
      "['https://maldita.es/malditobulo/2020/05/19/phishing-coronavirus-timos/', 'https://maldita.es/malditobulo/2020/05/19/audio-hijo-felix-rodriguez-de-la-fuente-gobierno-coronavirus/', 'https://maldita.es/malditobulo/2020/05/19/correos-redondea-donativo-mascarillas-funcionarios-bulo/', 'https://maldita.es/malditobulo/2020/05/19/comparativa-test-rapidos-entregados-usados-comunidades-pp-gobierno/', 'https://maldita.es/malditobulo/2020/05/19/coronavirus-bacteria-5g-autopsias-italia/', 'https://maldita.es/malditobulo/2020/05/19/partido-tercera-edad-en-accion-ex-presidente-carlos-rico-podemos/', 'https://maldita.es/malditobulo/2020/05/19/bonos-gratis-combustible-timo-phishing-repsol-shell-pemex/', 'https://maldita.es/malditaciencia/2020/05/19/cadena-italia-cura-coronavirus-autopsias-prohibidas/', 'https://maldita.es/malditobulo/2020/05/19/la-frase-sobre-jordi-pujol-jordi-sanchez-y-jordi-cuixart-que-atribuyen-falsamente-a-julio-anguita-no-aparece-en-ninguna-declaracion-publica-y-el-niega-haberla-dicho/', 'https://maldita.es/malditobulo/2020/05/19/illa-sanitarios-protesta-primera-ministra-belga/', 'https://maldita.es/malditobulo/2020/05/19/sorteo-vale-1000-euros-lidl-cuestionario/', 'https://maldita.es/malditobulo/2020/05/19/repsol-regala-combustible-gratis-tres-meses-phishing/', 'https://maldita.es/malditobulo/2020/05/19/bulos-y-desinformaciones-sobre-las-protestas-en-el-barrio-de-salamanca-de-madrid/', 'https://maldita.es/malditobulo/2020/05/18/cuidado-se-hacen-pasar-por-amazon-para-timarte-correos-sms-y-regalos-falsos/', 'https://maldita.es/malditobulo/2020/05/18/cuestionario-ganar-tarjeta-regalo-carrefour-phishing/', 'https://maldita.es/malditobulo/2020/05/18/juan-roig-presidente-mercadona-manifestacion-protesta-valencia-bandera-espana/', 'https://maldita.es/malditobulo/2020/05/18/neonazis-alcala-henares-agreden-pareja-homosexuales-eldiario/', 'https://maldita.es/malditobulo/2020/05/18/delegada-gobierno-violencia-genero-victoria-rosell/', 'https://maldita.es/malditobulo/2020/05/18/coronavirus-bulos-pandemia-prevenir-virus/', 'https://maldita.es/malditobulo/2020/05/18/cuidado-con-la-falsa-alerta-policial-de-la-banda-manos-limpias-que-te-droga-y-te-roba/', 'https://maldita.es/malditobulo/2020/05/18/queipo-llano-policia-nunez-balboa-salamanca-madrid/', 'https://maldita.es/malditobulo/2020/05/18/carrefour-cupones-180-euros-phishing/', 'https://maldita.es/malditobulo/2020/05/18/mujer-bandera-espana-aguila-barrio-salamanca-madrid-coronavirus/', 'https://maldita.es/malditobulo/2020/05/18/vacuna-coronavirus-covid-19-perros/', 'https://maldita.es/malditobulo/2020/05/17/no-esta-imagen-de-un-elefante-transportando-con-su-trompa-a-una-cria-de-leon-no-es-real-es-un-bulo-que-vuelve/', 'https://maldita.es/malditobulo/2020/05/17/no-este-video-de-una-pelea-en-una-terraza-no-esta-grabado-durante-la-crisis-por-el-coronavirus-fue-en-piera-barcelona-en-2016/', 'https://maldita.es/malditobulo/2020/05/17/pablo-iglesias-cocteles-molotov-video-audio-universidad-guardia-civil/', 'https://maldita.es/malditobulo/2020/05/17/bulos-y-desinformacion-sobre-la-homosexualidad-y-el-colectivo-lgtbi/', 'https://maldita.es/malditaciencia/2020/05/17/gargaras-sal-juan-panay-coronavirus-covid19/', 'https://maldita.es/malditobulo/2020/05/16/foto-ministra-isabel-celaa-mascarilla-comunidad-de-madrid/', 'https://maldita.es/malditobulo/2020/05/16/video-manifestantes-barrio-de-salamanca-cantar-bella-ciao/', 'https://maldita.es/malditobulo/2020/05/16/foto-traje-antirradiacion-tecnologia-5g-riesgo-salud/', 'https://maldita.es/malditobulo/2020/05/16/imagen-miembros-gobierno-hablando-sin-distancia-social/', 'https://maldita.es/malditobulo/2020/05/16/david-guetta-pinchando-himno-espana-video/', 'https://maldita.es/malditobulo/2020/05/16/policia-piso-himno-cacerolada-palma-espana/', 'https://maldita.es/malditobulo/2020/05/16/autonomos-prestacion-extraordinaria-cese-actividad-devolver-dinero-coronavirus-covid-75-4-mayo-desescalada-fase-cero/', 'https://maldita.es/malditobulo/2020/05/16/video-explicacion-como-hacer-una-felacion-irene-montero/', 'https://maldita.es/malditobulo/2020/05/16/foto-mujer-abrazando-agente-policia-barrio-de-salamanca-madrid-coronavirus/', 'https://maldita.es/malditobulo/2020/05/16/cuestionario-ganar-tarjeta-regalo-pack-fitness-decathlon-phishing/', 'https://maldita.es/malditobulo/2020/05/16/lidl-regala-vales-150-500-euros-cuarentena/', 'https://maldita.es/malditobulo/2020/05/16/cuidado-sms-autoevaluacion-covid-19-virus-dispositivo/', 'https://maldita.es/malditobulo/2020/05/16/podemos-propuesta-prohibir-banderas-espana-balcones/', 'https://maldita.es/malditobulo/2020/05/16/phishing-coronavirus-timos/', 'https://maldita.es/malditobulo/2020/05/16/que-sabemos-sobre-las-supuestas-mentiras-del-curriculum-de-fernando-simon-esta-especializado-en-epidemiologia-esta-colegiado-en-huesca-y-no-tiene-el-mir-pero-antes-de-1995-no-era-necesari/', 'https://maldita.es/malditobulo/2020/05/16/foto-senora-empleada-hogar-cacerolada-confinamiento-barrio-salamanca-madrid/', 'https://maldita.es/malditobulo/2020/05/15/correo-seguridad-social-reembolso-phishing/', 'https://maldita.es/malditaciencia/2020/05/15/video-virologa-judy-mikovits-coronavirus/', 'https://maldita.es/malditobulo/2020/05/15/no-felipe-gonzalez-no-ha-dicho-que-prefiera-a-franco-antes-que-a-podemos/', 'https://maldita.es/malditaciencia/2020/05/15/no-consumir-alimentos-alcalinos-no-ayuda-a-combatir-el-coronavirus/', 'https://maldita.es/malditobulo/2020/05/15/hombre-video-manifestacion-nunez-balboa-palo-de-golf/', 'https://maldita.es/malditobulo/2020/05/15/lidl-regala-bonos-180-euros-phishing-timo/', 'https://maldita.es/malditobulo/2020/05/15/cofares-no-vendio-mascarillas-ffp2-coronavirus-comunidad-madrid-bulo/', 'https://maldita.es/malditobulo/2020/05/15/video-denuncias-censuras-rtve-estado-alarma-coronavirus/', 'https://maldita.es/malditobulo/2020/05/15/imagen-cadaveres-morgue-coronavirus/', 'https://maldita.es/malditobulo/2020/05/15/princesa-leonor-movil-60-000-euros/', 'https://maldita.es/malditobulo/2020/05/15/cartel-se-prohibe-bandera-espanola-control-policia-bulo/', 'https://maldita.es/malditobulo/2020/05/15/cientifica-espanola-messi-cristiano-ronaldo-futbolista-coronavirus/', 'https://maldita.es/malditobulo/2020/05/14/insituto-salud-carlos-iii-pandemia-coronavirus-terminado/', 'https://maldita.es/malditobulo/2020/05/14/policia-alicante-grupo-bandera-espana-dimision/', 'https://maldita.es/malditobulo/2020/05/14/leroy-merlin-tarjetas-1000-euros-reapertura-tiendas-coronavirus/', 'https://maldita.es/malditobulo/2020/05/14/no-felipe-gonzalez-no-ha-tuiteado-pidiendo-un-gabinete-de-crisis-por-el-coronavirus-diciendo-que-la-coalicion-ha-caducado-ya-es-una-cuenta-fake/', 'https://maldita.es/malditobulo/2020/05/14/primark-vales-500-euros-reapertura-tiendas/', 'https://maldita.es/malditobulo/2020/05/13/informe-europeo-culpa-sanchez-iglesias-gobierno-illa-graficos-muertes-coronavirus/', 'https://maldita.es/malditobulo/2020/05/13/ignacio-escolar-bajada-sueldo-funcionarios/', 'https://maldita.es/malditobulo/2020/05/13/coronavirus-articulo-clarin-2003-covid-19/', 'https://maldita.es/malditobulo/2020/05/13/imagen-policia-deteniendo-anciana-coronavirus/', 'https://maldita.es/malditobulo/2020/05/13/bill-gates-hijos-vacunas/', 'https://maldita.es/malditobulo/2020/05/13/podemos-malaga-soga-bandera-espana-corea-norte/', 'https://maldita.es/malditobulo/2020/05/13/policia-calle-nunez-de-balboa-cacerolada-protesta-madrid-cacerolada-protesta-gobierno/', 'https://maldita.es/malditaciencia/2020/05/13/fotos-pajaros-muertos-5g/', 'https://maldita.es/malditaciencia/2020/05/13/video-nacimiento-bebe-bolsa-amniotica-madre-covid19/', 'https://maldita.es/malditobulo/2020/05/13/bar-jota-sevilla-multa-5000-250-clientes-cierre-clausura-fase-1-desescalada-sevilla/']\n"
     ]
    }
   ],
   "source": [
    "print(len(lista_enlaces))\n",
    "print(lista_enlaces)a"
   ]
  }
 ],
 "metadata": {
  "kernelspec": {
   "display_name": "Python 3",
   "language": "python",
   "name": "python3"
  },
  "language_info": {
   "codemirror_mode": {
    "name": "ipython",
    "version": 3
   },
   "file_extension": ".py",
   "mimetype": "text/x-python",
   "name": "python",
   "nbconvert_exporter": "python",
   "pygments_lexer": "ipython3",
   "version": "3.7.4"
  }
 },
 "nbformat": 4,
 "nbformat_minor": 2
}
